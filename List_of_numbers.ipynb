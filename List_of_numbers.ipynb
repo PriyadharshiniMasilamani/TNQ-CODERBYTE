{
  "nbformat": 4,
  "nbformat_minor": 0,
  "metadata": {
    "colab": {
      "provenance": []
    },
    "kernelspec": {
      "name": "python3",
      "display_name": "Python 3"
    },
    "language_info": {
      "name": "python"
    }
  },
  "cells": [
    {
      "cell_type": "markdown",
      "source": [
        "**LIST OF NUMBER DIGITS**"
      ],
      "metadata": {
        "id": "dsbwnlLrEJ2y"
      }
    },
    {
      "cell_type": "code",
      "source": [
        "def list_digit(num):\n",
        "    res = [int(x) for x in str(num)]\n",
        "    return (res)\n",
        "num = 278\n",
        "print(\"List of number: \\n\",list_digit(num))"
      ],
      "metadata": {
        "colab": {
          "base_uri": "https://localhost:8080/"
        },
        "id": "G9O9IscQEKFW",
        "outputId": "69fe4d14-d75f-4e08-8234-dc16ea580c7a"
      },
      "execution_count": 1,
      "outputs": [
        {
          "output_type": "stream",
          "name": "stdout",
          "text": [
            "List of number: \n",
            " [2, 7, 8]\n"
          ]
        }
      ]
    }
  ]
}