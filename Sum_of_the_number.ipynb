{
  "nbformat": 4,
  "nbformat_minor": 0,
  "metadata": {
    "colab": {
      "provenance": [],
      "collapsed_sections": []
    },
    "kernelspec": {
      "name": "python3",
      "display_name": "Python 3"
    },
    "language_info": {
      "name": "python"
    }
  },
  "cells": [
    {
      "cell_type": "markdown",
      "source": [
        " **SUM OF THE NUMBERS**\n"
      ],
      "metadata": {
        "id": "cYtCdJNlCp39"
      }
    },
    {
      "cell_type": "code",
      "source": [
        "n=int(input(\"Enter the count of the number:\"))\n",
        "c=0\n",
        "for i in range(0,n):\n",
        "    ele=int(input())\n",
        "    c+=ele\n",
        "print(\"Sum of the  above number is\",c)"
      ],
      "metadata": {
        "colab": {
          "base_uri": "https://localhost:8080/"
        },
        "id": "T2-bLqlFCqaQ",
        "outputId": "617432e2-9ba2-4b79-c33c-2d7004f6f6d6"
      },
      "execution_count": 1,
      "outputs": [
        {
          "output_type": "stream",
          "name": "stdout",
          "text": [
            "Enter the count of the number:3\n",
            "1\n",
            "2\n",
            "3\n",
            "Sum of the  above number is 6\n"
          ]
        }
      ]
    }
  ]
}