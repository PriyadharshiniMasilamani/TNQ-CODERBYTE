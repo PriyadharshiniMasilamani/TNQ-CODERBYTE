{
  "nbformat": 4,
  "nbformat_minor": 0,
  "metadata": {
    "colab": {
      "provenance": []
    },
    "kernelspec": {
      "name": "python3",
      "display_name": "Python 3"
    },
    "language_info": {
      "name": "python"
    }
  },
  "cells": [
    {
      "cell_type": "markdown",
      "source": [
        "**UPCOMING LEAP YEAR**"
      ],
      "metadata": {
        "id": "jDDC-mmxDf2p"
      }
    },
    {
      "cell_type": "code",
      "source": [
        "year=int(input(\"Enter the year:\"))\n",
        "print(\"UPCOMING LEAP YEARS\")\n",
        "n=20\n",
        "c=0\n",
        "while(c!=n):\n",
        "    year+=1\n",
        "    if(year%4==0 and year%100!=0 or year%400==0):\n",
        "        c+=1\n",
        "        print(c,'',year)\n"
      ],
      "metadata": {
        "colab": {
          "base_uri": "https://localhost:8080/"
        },
        "id": "hv4N-1OvDgbN",
        "outputId": "579faf2b-df53-483b-cb06-0c9fd7a20602"
      },
      "execution_count": 2,
      "outputs": [
        {
          "output_type": "stream",
          "name": "stdout",
          "text": [
            "Enter the year:2022\n",
            "UPCOMING LEAP YEARS\n",
            "1  2024\n",
            "2  2028\n",
            "3  2032\n",
            "4  2036\n",
            "5  2040\n",
            "6  2044\n",
            "7  2048\n",
            "8  2052\n",
            "9  2056\n",
            "10  2060\n",
            "11  2064\n",
            "12  2068\n",
            "13  2072\n",
            "14  2076\n",
            "15  2080\n",
            "16  2084\n",
            "17  2088\n",
            "18  2092\n",
            "19  2096\n",
            "20  2104\n"
          ]
        }
      ]
    }
  ]
}